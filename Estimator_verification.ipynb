{
 "cells": [
  {
   "cell_type": "code",
   "execution_count": 2,
   "metadata": {},
   "outputs": [],
   "source": [
    "import numpy as np\n",
    "import numpy.linalg as npl\n",
    "import statsmodels.api as smf\n",
    "\n",
    "import pandas as pd"
   ]
  },
  {
   "cell_type": "markdown",
   "metadata": {},
   "source": [
    "# Without intercept"
   ]
  },
  {
   "cell_type": "markdown",
   "metadata": {},
   "source": [
    "The following functions allow us to generate W_i, eta_i, u_i, X_i, then y_i without interception (beta_0=0)."
   ]
  },
  {
   "cell_type": "code",
   "execution_count": 3,
   "metadata": {},
   "outputs": [],
   "source": [
    "W_gen = lambda sigma_w,n : sigma_w*np.random.randn(n)\n",
    "\n",
    "\n",
    "def eta_u_gen(sigma_eta,theta,n):\n",
    "    \n",
    "    sigma = np.array([[sigma_eta**2,theta*sigma_eta],[theta*sigma_eta,1]])\n",
    "    \n",
    "    result = npl.eig(sigma)\n",
    "    \n",
    "    D = np.diag(result[0])\n",
    "    O = result[1]\n",
    "    B = O@D**(1/2)\n",
    "    \n",
    "    N1 = np.random.randn(n)\n",
    "    N2 = np.random.randn(n)\n",
    "    \n",
    "    N_new1 = []\n",
    "    N_new2 = []\n",
    "\n",
    "    for nn1,nn2 in zip(N1,N2):\n",
    "    \n",
    "     N_new1.append(B[0,0]*nn1 + B[0,1]*nn2)\n",
    "     N_new2.append(B[1,0]*nn1 + B[1,1]*nn2)\n",
    "    \n",
    "    return np.array([N_new1,N_new2])\n",
    "    \n",
    "\n",
    "X_gen = lambda alpha,W,eta : alpha*W+eta\n",
    "\n",
    "y_gen = lambda beta,X,u : (beta*X + u > 0).astype(int)"
   ]
  },
  {
   "cell_type": "code",
   "execution_count": 4,
   "metadata": {},
   "outputs": [],
   "source": [
    "import scipy.stats as ss"
   ]
  },
  {
   "cell_type": "markdown",
   "metadata": {},
   "source": [
    "We define the value of the parameters."
   ]
  },
  {
   "cell_type": "code",
   "execution_count": 5,
   "metadata": {},
   "outputs": [],
   "source": [
    "alpha = 0.7\n",
    "\n",
    "beta = 2\n",
    "\n",
    "sigma_w = 1\n",
    "sigma_eta = np.sqrt(1-alpha**2)\n",
    "theta = 0.7"
   ]
  },
  {
   "cell_type": "code",
   "execution_count": 5,
   "metadata": {},
   "outputs": [
    {
     "data": {
      "text/plain": [
       "0.714142842854285"
      ]
     },
     "execution_count": 5,
     "metadata": {},
     "output_type": "execute_result"
    }
   ],
   "source": [
    "sigma_eta"
   ]
  },
  {
   "cell_type": "code",
   "execution_count": 6,
   "metadata": {},
   "outputs": [],
   "source": [
    "def eta_u_gen2(sigma_eta,theta,n):\n",
    "    \n",
    "    u = np.random.randn(n)\n",
    "    N = np.random.randn(n)\n",
    "    \n",
    "    eta = sigma_eta*(theta*u+np.sqrt(1-theta**2)*N)\n",
    "    \n",
    "    return eta,u\n",
    "    "
   ]
  },
  {
   "cell_type": "markdown",
   "metadata": {},
   "source": [
    "The following function estimates the parameters beta_1 and theta when there is no intercept: beta_0=0, beta_1=beta."
   ]
  },
  {
   "cell_type": "code",
   "execution_count": 7,
   "metadata": {},
   "outputs": [],
   "source": [
    "def estimators_sin_intercepto(a,b,alpha,sigma_w,sigma_eta):\n",
    "\n",
    "    gamma = (np.sqrt(2*np.pi)*alpha*sigma_w**2)/(np.sqrt(alpha**2*sigma_w**4+\\\n",
    "                                                   2*a**2*alpha**2*sigma_w**2*np.pi\\\n",
    "                                                   -4*a*b*alpha*sigma_w**2*np.pi\\\n",
    "                                                   +2*a**2*np.pi*sigma_eta**2))\n",
    "    beta_est = a*gamma/(alpha*sigma_w**2)\n",
    "    theta_est = (gamma*(b*alpha*sigma_w**2-a*alpha**2*sigma_w**2-a*sigma_eta**2))\\\n",
    "/(alpha*sigma_w**2*sigma_eta)\n",
    "    gamma = (np.sqrt(2*np.pi)*alpha)/(np.sqrt(alpha**2+\\\n",
    "                                                   2*a**2*np.pi\\\n",
    "                                                   -4*a*b*alpha*np.pi))\n",
    "#    beta_est = a*gamma/alpha\n",
    "#    theta_est = (gamma*(b*alpha-a))\\\n",
    "#    /(alpha*sigma_eta)    \n",
    "    return (beta_est,theta_est,gamma)\n",
    "    "
   ]
  },
  {
   "cell_type": "markdown",
   "metadata": {},
   "source": [
    "# With intercept"
   ]
  },
  {
   "cell_type": "markdown",
   "metadata": {},
   "source": [
    "The following function defines the estimator with intercept."
   ]
  },
  {
   "cell_type": "code",
   "execution_count": 8,
   "metadata": {},
   "outputs": [],
   "source": [
    "Phi_inv = ss.norm.ppf\n",
    "\n",
    "def estimators_con_intercepto(X,W,y,alpha,sigma_w,sigma_eta):\n",
    "    \n",
    "    \n",
    "    t_inv = Phi_inv(y.mean())\n",
    "    \n",
    "    c = np.exp((1/2)*t_inv**2)\n",
    "    \n",
    "    a = c*(W*y).mean()\n",
    "    \n",
    "    b = c*(X*y).mean()\n",
    "    \n",
    "    first_estimators = estimators_sin_intercepto(a,b,alpha,sigma_w,sigma_eta)\n",
    "    \n",
    "    beta1_est = first_estimators[0]\n",
    "    theta_est = first_estimators[1]\n",
    "    gamma = first_estimators[2]\n",
    "    beta0_est = ((1/np.sqrt(2*np.pi))*t_inv)*gamma\n",
    "    \n",
    "    return beta0_est,beta1_est,theta_est,gamma"
   ]
  },
  {
   "cell_type": "markdown",
   "metadata": {},
   "source": [
    "We define the yi generator with intercept."
   ]
  },
  {
   "cell_type": "code",
   "execution_count": 9,
   "metadata": {},
   "outputs": [],
   "source": [
    "y_gen = lambda beta0,beta1,X,u : (beta0+beta1*X + u > 0).astype(int)"
   ]
  },
  {
   "cell_type": "code",
   "execution_count": 10,
   "metadata": {},
   "outputs": [],
   "source": [
    "beta = 2"
   ]
  },
  {
   "cell_type": "code",
   "execution_count": 13,
   "metadata": {},
   "outputs": [],
   "source": [
    "beta1 = beta\n",
    "beta0 = 0.5"
   ]
  },
  {
   "cell_type": "code",
   "execution_count": 15,
   "metadata": {},
   "outputs": [],
   "source": [
    "theta = 0.7"
   ]
  },
  {
   "cell_type": "code",
   "execution_count": 16,
   "metadata": {},
   "outputs": [],
   "source": [
    "beta0 = 0.5\n",
    "theta = 0.3"
   ]
  },
  {
   "cell_type": "markdown",
   "metadata": {},
   "source": [
    "In what follows, epochs is the number of simulations, n is the amount of data for each simulation."
   ]
  },
  {
   "cell_type": "code",
   "execution_count": 17,
   "metadata": {},
   "outputs": [],
   "source": [
    "n = 2000\n",
    "\n",
    "epochs = 1000"
   ]
  },
  {
   "cell_type": "code",
   "execution_count": null,
   "metadata": {},
   "outputs": [],
   "source": [
    "import time\n",
    "\n",
    "t_I = time.time()\n",
    "\n",
    "bachs = 50\n",
    "\n",
    "list_beta0_est = []\n",
    "list_beta0_probit = []\n",
    "list_beta1_est = []\n",
    "list_beta1_probit = []\n",
    "list_theta_est = []\n",
    "\n",
    "for epoch in range(epochs):\n",
    "    \n",
    "   \n",
    "   W = W_gen(sigma_w,n)\n",
    "   eta_u = eta_u_gen(sigma_eta,theta,n)\n",
    "   eta = eta_u[0]\n",
    "   u = eta_u[1]\n",
    "   X = X_gen(alpha,W,eta)\n",
    "   y = y_gen(beta0,beta1,X,u)\n",
    "   beta0_est_sample_list = []\n",
    "   beta1_est_sample_list = [] \n",
    "   theta_est_sample_list = [] \n",
    "   bach = 0 \n",
    "   while bach <= bachs: \n",
    "    sample_indices = np.random.permutation(X.shape[0])[:int(n/2)]\n",
    "#    sample_indices = [idx for idx in range(bach,bach+100)]\n",
    "    X_sample = X[sample_indices]\n",
    "    y_sample = y[sample_indices]\n",
    "    W_sample = W[sample_indices]\n",
    "    X_sample = (X_sample-X_sample.mean())/X_sample.std()\n",
    "    W_sample = (W_sample-W_sample.mean())/W_sample.std()\n",
    "    alpha_est_sample = np.cov(X_sample,W_sample)[0,1]/W_sample.var()\n",
    "    sigma_eta_est_sample = (X_sample-alpha_est_sample*W_sample).std() \n",
    "    sigma_w_est_sample = W_sample.std()\n",
    "    estimators = estimators_con_intercepto(X_sample,W_sample,y_sample,alpha_est_sample\\\n",
    "                                           ,sigma_w_est_sample,sigma_eta_est_sample)\n",
    "    if np.abs(estimators[2])<=1.0:\n",
    "     beta0_est_sample_list.append(estimators[0])\n",
    "     beta1_est_sample_list.append(estimators[1])\n",
    "     theta_est_sample_list.append(estimators[2])\n",
    "     bach += 1\n",
    "   list_beta0_est.append(np.nanmean(beta0_est_sample_list))  \n",
    "   list_beta1_est.append(np.nanmean(beta1_est_sample_list)) \n",
    "   list_theta_est.append(np.nanmean(theta_est_sample_list)) \n",
    "   beta_probit = smf.Probit(y,np.concatenate([np.ones((W.shape[0],1)),W.reshape((-1,1))],axis = 1)).fit().params\n",
    "   beta0_probit = beta_probit[0]\n",
    "   list_beta0_probit.append(beta0_probit)\n",
    "   beta1_probit = beta_probit[1]\n",
    "   list_beta1_probit.append(beta1_probit)\n",
    "#   print('*******************',epoch,'*******************************************')\n",
    "\n",
    "predictions = {'Beta0':list_beta0_est,'Beta1':list_beta1_est,\\\n",
    "'Theta':list_theta_est,'Beta0_probit': list_beta0_probit,\\\n",
    "       'Beta1_probit': list_beta1_probit }\n",
    "   \n",
    "three_estimators = pd.DataFrame(predictions)\n",
    "\n",
    "t_F = time.time()\n",
    "\n",
    "print('Se demorró',round((t_F-t_I)/60,0),'minutos')"
   ]
  },
  {
   "cell_type": "markdown",
   "metadata": {},
   "source": [
    "Mean value of the estimators"
   ]
  },
  {
   "cell_type": "code",
   "execution_count": 19,
   "metadata": {},
   "outputs": [
    {
     "data": {
      "text/plain": [
       "Beta0           0.503836\n",
       "Beta1           2.009883\n",
       "Theta           0.300026\n",
       "Beta0_probit    0.253307\n",
       "Beta1_probit    0.710024\n",
       "dtype: float64"
      ]
     },
     "execution_count": 19,
     "metadata": {},
     "output_type": "execute_result"
    }
   ],
   "source": [
    "three_estimators.mean()"
   ]
  },
  {
   "cell_type": "markdown",
   "metadata": {},
   "source": [
    "Standard deviation of the estimators"
   ]
  },
  {
   "cell_type": "code",
   "execution_count": 20,
   "metadata": {},
   "outputs": [
    {
     "data": {
      "text/plain": [
       "Beta0           0.078100\n",
       "Beta1           0.161164\n",
       "Theta           0.065436\n",
       "Beta0_probit    0.032112\n",
       "Beta1_probit    0.036434\n",
       "dtype: float64"
      ]
     },
     "execution_count": 20,
     "metadata": {},
     "output_type": "execute_result"
    }
   ],
   "source": [
    "three_estimators.std()"
   ]
  },
  {
   "cell_type": "markdown",
   "metadata": {},
   "source": [
    "Mean squared error of the new estimators"
   ]
  },
  {
   "cell_type": "code",
   "execution_count": 22,
   "metadata": {},
   "outputs": [
    {
     "data": {
      "text/plain": [
       "Beta0    0.006108\n",
       "Beta1    0.026045\n",
       "dtype: float64"
      ]
     },
     "execution_count": 22,
     "metadata": {},
     "output_type": "execute_result"
    }
   ],
   "source": [
    "((three_estimators[['Beta0','Beta1']] - [0.5,2])**2).mean()"
   ]
  },
  {
   "cell_type": "code",
   "execution_count": null,
   "metadata": {},
   "outputs": [],
   "source": []
  },
  {
   "cell_type": "code",
   "execution_count": null,
   "metadata": {},
   "outputs": [],
   "source": []
  }
 ],
 "metadata": {
  "kernelspec": {
   "display_name": "Python 3 (ipykernel)",
   "language": "python",
   "name": "python3"
  },
  "language_info": {
   "codemirror_mode": {
    "name": "ipython",
    "version": 3
   },
   "file_extension": ".py",
   "mimetype": "text/x-python",
   "name": "python",
   "nbconvert_exporter": "python",
   "pygments_lexer": "ipython3",
   "version": "3.9.12"
  }
 },
 "nbformat": 4,
 "nbformat_minor": 4
}
